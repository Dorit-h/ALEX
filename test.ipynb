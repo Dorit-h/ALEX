{
 "cells": [
  {
   "cell_type": "code",
   "execution_count": 1,
   "metadata": {},
   "outputs": [],
   "source": [
    "from openai import OpenAI\n",
    "vlm_model = OpenAI(base_url=\"https://095kiew15yzv2e-8000.proxy.runpod.net/v1/\", api_key=\"volker123\")\n"
   ]
  },
  {
   "cell_type": "code",
   "execution_count": null,
   "metadata": {},
   "outputs": [],
   "source": [
    "image = Image.open(\"slide.png\")\n",
    "base64_image = get_b64_image_from_content(image_content)\n",
    "messages = [\n",
    "        {\n",
    "        \"role\": \"user\",\n",
    "        \"content\": [\n",
    "            {\n",
    "            \"type\": \"text\",\n",
    "            \"text\": \"What is in this image?\",\n",
    "            },\n",
    "            {\n",
    "            \"type\": \"image_url\",\n",
    "            \"image_url\": {\n",
    "                \"url\":  f\"data:image/jpeg;base64,{base64_image}\"\n",
    "            }, \n",
    "            },\n",
    "        ],\n",
    "        }\n",
    "    ]\n",
    "response = vlm_model.chat.completions.create(messages=messages, model=\"unsloth/Llama-3.2-11B-Vision-Instruct\")\n",
    "print(response.choices[0].message.content)"
   ]
  }
 ],
 "metadata": {
  "kernelspec": {
   "display_name": "hack",
   "language": "python",
   "name": "python3"
  },
  "language_info": {
   "codemirror_mode": {
    "name": "ipython",
    "version": 3
   },
   "file_extension": ".py",
   "mimetype": "text/x-python",
   "name": "python",
   "nbconvert_exporter": "python",
   "pygments_lexer": "ipython3",
   "version": "3.11.10"
  }
 },
 "nbformat": 4,
 "nbformat_minor": 2
}
